{
 "cells": [
  {
   "cell_type": "code",
   "execution_count": null,
   "metadata": {},
   "outputs": [],
   "source": [
    "from __future__ import annotations\n",
    "from abc import ABC, abstractmethod\n",
    "\n",
    "class Creator(ABC):\n",
    "    \n",
    "    @abstractmethod\n",
    "    def factory_method(self):\n",
    "        pass\n",
    "    \n",
    "    def operation(self):\n",
    "        product = self.factory_method()\n",
    "    \n",
    "        result = product.operation()\n",
    "        \n",
    "        return result\n",
    "\n",
    "class Product(ABC):\n",
    "    \n",
    "    @abstractmethod\n",
    "    def operation(self): -> str:\n",
    "        pass\n",
    "        "
   ]
  },
  {
   "cell_type": "code",
   "execution_count": null,
   "metadata": {},
   "outputs": [],
   "source": [
    "class A_Creator(Creator):\n",
    "    def factory_method(self) -> Product:\n",
    "        return A()\n",
    "    "
   ]
  }
 ],
 "metadata": {
  "language_info": {
   "name": "python"
  },
  "orig_nbformat": 4
 },
 "nbformat": 4,
 "nbformat_minor": 2
}
